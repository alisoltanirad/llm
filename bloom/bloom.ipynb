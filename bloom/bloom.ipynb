{
 "cells": [
  {
   "cell_type": "code",
   "execution_count": 3,
   "id": "36a6ed2d-0023-4eeb-9550-b7c76c44ec94",
   "metadata": {},
   "outputs": [
    {
     "name": "stdout",
     "output_type": "stream",
     "text": [
      "Requirement already satisfied: pip in /Library/Frameworks/Python.framework/Versions/3.11/lib/python3.11/site-packages (23.2.1)\n",
      "Note: you may need to restart the kernel to use updated packages.\n",
      "Note: you may need to restart the kernel to use updated packages.\n",
      "Note: you may need to restart the kernel to use updated packages.\n"
     ]
    }
   ],
   "source": [
    "%pip install --upgrade pip\n",
    "%pip install --disable-pip-version-check \\\n",
    "    torch==2.1.0 \\\n",
    "    torchdata==0.7.0 --quiet\n",
    "\n",
    "%pip install \\\n",
    "    transformers==4.34.0 \\\n",
    "    datasets==2.14.5  --quiet"
   ]
  },
  {
   "cell_type": "code",
   "execution_count": 21,
   "id": "c88ff6ef-db73-403f-a0b5-d5999ea72f4e",
   "metadata": {},
   "outputs": [],
   "source": [
    "from transformers import AutoTokenizer, BloomForCausalLM\n",
    "import torch\n",
    "\n",
    "tokenizer = AutoTokenizer.from_pretrained(\"bigscience/bloom-560m\", use_fast=True)\n",
    "model = BloomForCausalLM.from_pretrained(\"bigscience/bloom-560m\")"
   ]
  },
  {
   "cell_type": "code",
   "execution_count": 26,
   "id": "170f8762-0dc6-477c-a1f6-0ab7eb2b2893",
   "metadata": {},
   "outputs": [
    {
     "data": {
      "text/plain": [
       "'What is the price of bitcoin today? The price of bitcoin is currently at $9,000. The price of bitcoin is currently at $9,000. The price of bitcoin is currently at $9,000. The price of bitcoin is currently at $9,000. The price of bitcoin is currently at $9,000. The price of bitcoin is currently at $9,000. The price of bitcoin is currently at $9,000. The price of bitcoin is currently at $9,000. The price of bitcoin is currently at $9,000. The price of bitcoin is currently at $9,000. The price of bitcoin is currently at $9,000. The price of bitcoin is currently at $9,000. The price of bitcoin is currently at $9,000. The price of bitcoin is currently at $9,000. The price of bitcoin is currently at $9,000. The price of bitcoin is currently at $9,000. The price of bitcoin is currently at $'"
      ]
     },
     "execution_count": 26,
     "metadata": {},
     "output_type": "execute_result"
    }
   ],
   "source": [
    "prompt = \"What is the price of bitcoin today?\"\n",
    "inputs = tokenizer(prompt, return_tensors=\"pt\")[\"input_ids\"]\n",
    "\n",
    "outputs = tokenizer.decode(\n",
    "    model.generate(\n",
    "        inputs,\n",
    "        max_new_tokens=200,\n",
    "    )[0],\n",
    "    skip_special_tokens=True\n",
    ")\n",
    "outputs"
   ]
  },
  {
   "cell_type": "code",
   "execution_count": null,
   "id": "7372c40b-b4bd-4f95-8751-07e4d7d90d51",
   "metadata": {},
   "outputs": [],
   "source": []
  }
 ],
 "metadata": {
  "kernelspec": {
   "display_name": "Python 3 (ipykernel)",
   "language": "python",
   "name": "python3"
  },
  "language_info": {
   "codemirror_mode": {
    "name": "ipython",
    "version": 3
   },
   "file_extension": ".py",
   "mimetype": "text/x-python",
   "name": "python",
   "nbconvert_exporter": "python",
   "pygments_lexer": "ipython3",
   "version": "3.11.4"
  }
 },
 "nbformat": 4,
 "nbformat_minor": 5
}
