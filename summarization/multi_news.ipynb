{
 "cells": [
  {
   "cell_type": "code",
   "execution_count": 1,
   "id": "f6618c98-1bb0-4de7-9217-e23fd6b37441",
   "metadata": {},
   "outputs": [
    {
     "name": "stderr",
     "output_type": "stream",
     "text": [
      "/Users/soli/Documents/Projects/llm/env/lib/python3.11/site-packages/tqdm/auto.py:21: TqdmWarning: IProgress not found. Please update jupyter and ipywidgets. See https://ipywidgets.readthedocs.io/en/stable/user_install.html\n",
      "  from .autonotebook import tqdm as notebook_tqdm\n",
      "Downloading builder script: 100%|██████████| 3.83k/3.83k [00:00<00:00, 6.58MB/s]\n",
      "Downloading metadata: 100%|██████████| 2.82k/2.82k [00:00<00:00, 14.3MB/s]\n",
      "Downloading readme: 100%|██████████| 10.6k/10.6k [00:00<00:00, 11.6MB/s]\n",
      "Downloading data: 100%|██████████| 548M/548M [00:36<00:00, 15.0MB/s]\n",
      "Downloading data: 100%|██████████| 58.8M/58.8M [00:03<00:00, 14.9MB/s]\n",
      "Downloading data: 100%|██████████| 66.9M/66.9M [00:04<00:00, 15.1MB/s]\n",
      "Downloading data: 100%|██████████| 7.30M/7.30M [00:00<00:00, 14.4MB/s]\n",
      "Downloading data: 100%|██████████| 69.0M/69.0M [00:04<00:00, 15.0MB/s]\n",
      "Downloading data: 100%|██████████| 7.31M/7.31M [00:00<00:00, 13.2MB/s]\n",
      "Downloading data files: 100%|██████████| 3/3 [00:54<00:00, 18.02s/it]\n",
      "Generating train split: 100%|██████████| 44972/44972 [00:02<00:00, 19099.22 examples/s]\n",
      "Generating validation split: 100%|██████████| 5622/5622 [00:00<00:00, 19763.54 examples/s]\n",
      "Generating test split: 100%|██████████| 5622/5622 [00:00<00:00, 18314.74 examples/s]\n"
     ]
    },
    {
     "data": {
      "text/plain": [
       "DatasetDict({\n",
       "    train: Dataset({\n",
       "        features: ['document', 'summary'],\n",
       "        num_rows: 44972\n",
       "    })\n",
       "    validation: Dataset({\n",
       "        features: ['document', 'summary'],\n",
       "        num_rows: 5622\n",
       "    })\n",
       "    test: Dataset({\n",
       "        features: ['document', 'summary'],\n",
       "        num_rows: 5622\n",
       "    })\n",
       "})"
      ]
     },
     "execution_count": 1,
     "metadata": {},
     "output_type": "execute_result"
    }
   ],
   "source": [
    "from datasets import load_dataset\n",
    "\n",
    "huggingface_dataset_name = \"multi_news\"\n",
    "dataset = load_dataset(huggingface_dataset_name)\n",
    "dataset"
   ]
  },
  {
   "cell_type": "code",
   "execution_count": 2,
   "id": "335061bb-18dd-4fed-9383-64ad196a0ddb",
   "metadata": {},
   "outputs": [
    {
     "data": {
      "text/plain": [
       "datasets.dataset_dict.DatasetDict"
      ]
     },
     "execution_count": 2,
     "metadata": {},
     "output_type": "execute_result"
    }
   ],
   "source": [
    "type(dataset)"
   ]
  },
  {
   "cell_type": "code",
   "execution_count": null,
   "id": "215ee6b2",
   "metadata": {},
   "outputs": [],
   "source": []
  }
 ],
 "metadata": {
  "kernelspec": {
   "display_name": "Python 3 (ipykernel)",
   "language": "python",
   "name": "python3"
  },
  "language_info": {
   "codemirror_mode": {
    "name": "ipython",
    "version": 3
   },
   "file_extension": ".py",
   "mimetype": "text/x-python",
   "name": "python",
   "nbconvert_exporter": "python",
   "pygments_lexer": "ipython3",
   "version": "3.11.4"
  }
 },
 "nbformat": 4,
 "nbformat_minor": 5
}
